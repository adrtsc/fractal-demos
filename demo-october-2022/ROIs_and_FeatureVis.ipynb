{
 "cells": [
  {
   "cell_type": "markdown",
   "id": "ae1c7d4e-a571-4ec9-bd57-305b8edd3362",
   "metadata": {},
   "source": [
    "# Load a single ROI from an OME-Zarr file\n",
    "To enable 3D interactivity and easy ways to interact with the dataset in a jupyter notebook, let's load a single ROI instead of the whole well.  \n",
    "If you did not create your own OME-Zarr file using Fractal, you can download the output from here:\n",
    "https://zenodo.org/record/7120354"
   ]
  },
  {
   "cell_type": "code",
   "execution_count": null,
   "id": "b9bcc64d-63d9-486b-a54a-2c9bb12f2d16",
   "metadata": {},
   "outputs": [],
   "source": [
    "# In case anndata & matplotlib were not installed yet, run this\n",
    "# pip install anndata\n",
    "# pip install matplotlib"
   ]
  },
  {
   "cell_type": "code",
   "execution_count": null,
   "id": "fcf58b17-746c-4295-9fbe-f030567fb349",
   "metadata": {},
   "outputs": [],
   "source": [
    "import napari\n",
    "import zarr\n",
    "import ome_zarr\n",
    "from pathlib import Path\n",
    "import anndata as ad\n",
    "import dask.array as da\n",
    "import numpy as np\n",
    "import pandas as pd\n",
    "import matplotlib.pyplot as plt\n",
    "\n",
    "from utils_roi_loading import convert_ROI_table_to_indices, load_label_roi, load_intensity_roi, prepare_feature_vis"
   ]
  },
  {
   "cell_type": "code",
   "execution_count": null,
   "id": "12dae7d5-0500-4442-a5f8-90dd20399b8a",
   "metadata": {},
   "outputs": [],
   "source": [
    "# Define the path to your OME-Zarr file\n",
    "# (either just processed via Fractal or downloaded from Zenodo)\n",
    "zarr_url = Path('/Users/joel/Desktop/20220928_2x2_Zenodo/20200812-CardiomyocyteDifferentiation14-Cycle1_mip.zarr')"
   ]
  },
  {
   "cell_type": "code",
   "execution_count": null,
   "id": "9de6e678-889a-4a38-b748-6f70335d878a",
   "metadata": {},
   "outputs": [],
   "source": [
    "# Constant settings\n",
    "labels_name = 'label_DAPI'\n",
    "roi_table = 'FOV_ROI_table'\n",
    "\n",
    "# Changing settings\n",
    "well = 'B/03'\n",
    "roi_index_of_interest = 0\n",
    "channel_index = 0"
   ]
  },
  {
   "cell_type": "code",
   "execution_count": null,
   "id": "017efc23-ae9f-45cf-a713-1631bbccded7",
   "metadata": {},
   "outputs": [],
   "source": [
    "# Look at the ROI table\n",
    "roi_an = ad.read_zarr(zarr_url / f'{well}/0/tables/{roi_table}')\n",
    "ro_df = roi_an.to_df()\n",
    "ro_df"
   ]
  },
  {
   "cell_type": "code",
   "execution_count": null,
   "id": "83a88ed0-9400-4550-8e71-8caff424dd04",
   "metadata": {},
   "outputs": [],
   "source": [
    "label_roi, scale_label = load_label_roi(zarr_url, well, roi_index_of_interest, labels_name, level = 0)\n",
    "img_roi, scale_img = load_intensity_roi(zarr_url, well, roi_index_of_interest, channel_index, level = 0)"
   ]
  },
  {
   "cell_type": "code",
   "execution_count": null,
   "id": "e5b72f22-86c7-4801-997c-487728f85c9f",
   "metadata": {},
   "outputs": [],
   "source": [
    "viewer = napari.Viewer()\n",
    "viewer.add_image(img_roi, scale=scale_img)\n",
    "label_layer = viewer.add_labels(label_roi, scale=scale_label)"
   ]
  },
  {
   "cell_type": "code",
   "execution_count": null,
   "id": "50436f4c-d039-4ae1-9405-02018c3d744b",
   "metadata": {},
   "outputs": [],
   "source": []
  },
  {
   "cell_type": "markdown",
   "id": "d951da9c-5bfb-48f0-9bb8-a5476155c9b0",
   "metadata": {},
   "source": [
    "# Feature visualization"
   ]
  },
  {
   "cell_type": "code",
   "execution_count": null,
   "id": "b6a8391f-de20-4856-8244-47997a486391",
   "metadata": {},
   "outputs": [],
   "source": []
  },
  {
   "cell_type": "code",
   "execution_count": null,
   "id": "1e6a6a3d-fef0-44d5-8fcf-ef9583f7cc00",
   "metadata": {},
   "outputs": [],
   "source": [
    "measurement_table = 'nuclei'\n",
    "nuclei_path = zarr_url / f'{well}/0/tables/{measurement_table}'\n",
    "nuclei_an = ad.read_zarr(nuclei_path)"
   ]
  },
  {
   "cell_type": "code",
   "execution_count": null,
   "id": "7ccbe7ea-2996-42e2-90e8-80c343052ff1",
   "metadata": {},
   "outputs": [],
   "source": [
    "feature_df = nuclei_an.to_df()\n",
    "feature_df[['area', 'mean_intensity', 'standard_deviation_intensity']]"
   ]
  },
  {
   "cell_type": "code",
   "execution_count": null,
   "id": "3d843d31-3f25-4553-b8b2-a447bc95e88e",
   "metadata": {},
   "outputs": [],
   "source": [
    "colors, label_properties = prepare_feature_vis(feature_df, feature='area')\n",
    "label_layer.properties = label_properties\n",
    "label_layer.color = colors"
   ]
  },
  {
   "cell_type": "code",
   "execution_count": null,
   "id": "3e3a10ff-99d4-4d58-87dc-aae2f0eda741",
   "metadata": {},
   "outputs": [],
   "source": []
  },
  {
   "cell_type": "markdown",
   "id": "ecd035fb-92e6-47b1-aeca-622670fa9f98",
   "metadata": {},
   "source": [
    "# 3D example"
   ]
  },
  {
   "cell_type": "markdown",
   "id": "85701f4b-9183-4446-b591-4f06a08c8e8f",
   "metadata": {},
   "source": [
    "The same ROI loading & feature visualization also works on 3D data. Because 3D segmentation & feature measurements are slower, we didn't run them in today's demo. But you can get the above dataset with 3D segmentation & 3D measurements here: https://zenodo.org/record/7144919"
   ]
  },
  {
   "cell_type": "code",
   "execution_count": null,
   "id": "c58ce690-26c4-4a73-a530-ee41f4de60b3",
   "metadata": {},
   "outputs": [],
   "source": [
    "zarr_url = Path('/Users/joel/Desktop/20221004_Zenodo_3DSeg/20200812-CardiomyocyteDifferentiation14-Cycle1.zarr')"
   ]
  },
  {
   "cell_type": "code",
   "execution_count": null,
   "id": "516e6ff0-7a34-4a62-829b-7a7b3a96db77",
   "metadata": {},
   "outputs": [],
   "source": [
    "# Constant settings\n",
    "labels_name = 'label_DAPI'\n",
    "roi_table = 'FOV_ROI_table'\n",
    "\n",
    "# Changing settings\n",
    "well = 'B/03'\n",
    "roi_index_of_interest = 0\n",
    "channel_index = 0"
   ]
  },
  {
   "cell_type": "code",
   "execution_count": null,
   "id": "3fb783cc-3ec2-4b13-b753-d12dced68802",
   "metadata": {},
   "outputs": [],
   "source": [
    "label_roi, scale_label = load_label_roi(zarr_url, well, roi_index_of_interest, labels_name, level = 0)\n",
    "img_roi, scale_img = load_intensity_roi(zarr_url, well, roi_index_of_interest, channel_index, level = 0)"
   ]
  },
  {
   "cell_type": "code",
   "execution_count": null,
   "id": "27c74a40-6b10-4a87-9d9e-7e43a78b0641",
   "metadata": {},
   "outputs": [],
   "source": [
    "viewer = napari.Viewer()\n",
    "viewer.add_image(img_roi, scale=scale_img)\n",
    "label_layer = viewer.add_labels(label_roi, scale=scale_label)"
   ]
  },
  {
   "cell_type": "code",
   "execution_count": null,
   "id": "3bf070c9-589a-4388-9065-dbb7ec97d93f",
   "metadata": {},
   "outputs": [],
   "source": [
    "measurement_table = 'nuclei_3D'\n",
    "nuclei_path = zarr_url / f'{well}/0/tables/{measurement_table}'\n",
    "feature_df = ad.read_zarr(nuclei_path).to_df()\n",
    "colors, label_properties = prepare_feature_vis(feature_df, feature='area')\n",
    "label_layer.properties = label_properties\n",
    "label_layer.color = colors"
   ]
  }
 ],
 "metadata": {
  "kernelspec": {
   "display_name": "Python 3 (ipykernel)",
   "language": "python",
   "name": "python3"
  },
  "language_info": {
   "codemirror_mode": {
    "name": "ipython",
    "version": 3
   },
   "file_extension": ".py",
   "mimetype": "text/x-python",
   "name": "python",
   "nbconvert_exporter": "python",
   "pygments_lexer": "ipython3",
   "version": "3.9.12"
  }
 },
 "nbformat": 4,
 "nbformat_minor": 5
}
