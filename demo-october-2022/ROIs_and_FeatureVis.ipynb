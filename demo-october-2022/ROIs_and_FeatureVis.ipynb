{
 "cells": [
  {
   "cell_type": "markdown",
   "id": "ae1c7d4e-a571-4ec9-bd57-305b8edd3362",
   "metadata": {},
   "source": [
    "# Load a single ROI from an OME-Zarr file\n",
    "To enable 3D interactivity and easy ways to interact with the dataset in a jupyter notebook, let's load a single ROI instead of the whole well.  \n",
    "If you did not create your own OME-Zarr file using Fractal, you can download the output from here:\n",
    "https://zenodo.org/record/7120354"
   ]
  },
  {
   "cell_type": "code",
   "execution_count": null,
   "id": "b9bcc64d-63d9-486b-a54a-2c9bb12f2d16",
   "metadata": {},
   "outputs": [],
   "source": [
    "#pip install anndata\n",
    "#pip install matplotlib"
   ]
  },
  {
   "cell_type": "code",
   "execution_count": 1,
   "id": "fcf58b17-746c-4295-9fbe-f030567fb349",
   "metadata": {},
   "outputs": [],
   "source": [
    "import napari\n",
    "import zarr\n",
    "import ome_zarr\n",
    "from pathlib import Path\n",
    "import anndata as ad\n",
    "import dask.array as da\n",
    "import numpy as np\n",
    "from utils_roi_loading import convert_ROI_table_to_indices, load_label_roi, load_intensity_roi"
   ]
  },
  {
   "cell_type": "code",
   "execution_count": 2,
   "id": "12dae7d5-0500-4442-a5f8-90dd20399b8a",
   "metadata": {},
   "outputs": [],
   "source": [
    "# Define the path to your OME-Zarr file\n",
    "# (either just processed via Fractal or downloaded from Zenodo)\n",
    "zarr_url = Path('/Users/joel/Desktop/20220928_2x2_Zenodo/20200812-CardiomyocyteDifferentiation14-Cycle1_mip.zarr')"
   ]
  },
  {
   "cell_type": "code",
   "execution_count": 3,
   "id": "9de6e678-889a-4a38-b748-6f70335d878a",
   "metadata": {},
   "outputs": [],
   "source": [
    "# Constant settings\n",
    "labels_name = 'label_DAPI'\n",
    "roi_table = 'FOV_ROI_table'\n",
    "\n",
    "# Changing settings\n",
    "well = 'B/03'\n",
    "roi_index_of_interest = 0\n",
    "channel_index = 0"
   ]
  },
  {
   "cell_type": "code",
   "execution_count": 7,
   "id": "017efc23-ae9f-45cf-a713-1631bbccded7",
   "metadata": {},
   "outputs": [
    {
     "data": {
      "text/html": [
       "<div>\n",
       "<style scoped>\n",
       "    .dataframe tbody tr th:only-of-type {\n",
       "        vertical-align: middle;\n",
       "    }\n",
       "\n",
       "    .dataframe tbody tr th {\n",
       "        vertical-align: top;\n",
       "    }\n",
       "\n",
       "    .dataframe thead th {\n",
       "        text-align: right;\n",
       "    }\n",
       "</style>\n",
       "<table border=\"1\" class=\"dataframe\">\n",
       "  <thead>\n",
       "    <tr style=\"text-align: right;\">\n",
       "      <th></th>\n",
       "      <th>x_micrometer</th>\n",
       "      <th>y_micrometer</th>\n",
       "      <th>z_micrometer</th>\n",
       "      <th>len_x_micrometer</th>\n",
       "      <th>len_y_micrometer</th>\n",
       "      <th>len_z_micrometer</th>\n",
       "      <th>x_micrometer_original</th>\n",
       "      <th>y_micrometer_original</th>\n",
       "    </tr>\n",
       "    <tr>\n",
       "      <th>field_id</th>\n",
       "      <th></th>\n",
       "      <th></th>\n",
       "      <th></th>\n",
       "      <th></th>\n",
       "      <th></th>\n",
       "      <th></th>\n",
       "      <th></th>\n",
       "      <th></th>\n",
       "    </tr>\n",
       "  </thead>\n",
       "  <tbody>\n",
       "    <tr>\n",
       "      <th>FOV_1</th>\n",
       "      <td>-1448.300049</td>\n",
       "      <td>-1517.699951</td>\n",
       "      <td>0.0</td>\n",
       "      <td>416.0</td>\n",
       "      <td>351.0</td>\n",
       "      <td>1.0</td>\n",
       "      <td>-1448.300049</td>\n",
       "      <td>-1517.699951</td>\n",
       "    </tr>\n",
       "    <tr>\n",
       "      <th>FOV_2</th>\n",
       "      <td>-1032.300049</td>\n",
       "      <td>-1517.699951</td>\n",
       "      <td>0.0</td>\n",
       "      <td>416.0</td>\n",
       "      <td>351.0</td>\n",
       "      <td>1.0</td>\n",
       "      <td>-1032.300049</td>\n",
       "      <td>-1517.699951</td>\n",
       "    </tr>\n",
       "    <tr>\n",
       "      <th>FOV_3</th>\n",
       "      <td>-1448.300049</td>\n",
       "      <td>-1166.699951</td>\n",
       "      <td>0.0</td>\n",
       "      <td>416.0</td>\n",
       "      <td>351.0</td>\n",
       "      <td>1.0</td>\n",
       "      <td>-1448.300049</td>\n",
       "      <td>-1166.699951</td>\n",
       "    </tr>\n",
       "    <tr>\n",
       "      <th>FOV_4</th>\n",
       "      <td>-1032.300049</td>\n",
       "      <td>-1166.699951</td>\n",
       "      <td>0.0</td>\n",
       "      <td>416.0</td>\n",
       "      <td>351.0</td>\n",
       "      <td>1.0</td>\n",
       "      <td>-1032.300049</td>\n",
       "      <td>-1166.699951</td>\n",
       "    </tr>\n",
       "  </tbody>\n",
       "</table>\n",
       "</div>"
      ],
      "text/plain": [
       "          x_micrometer  y_micrometer  z_micrometer  len_x_micrometer  \\\n",
       "field_id                                                               \n",
       "FOV_1     -1448.300049  -1517.699951           0.0             416.0   \n",
       "FOV_2     -1032.300049  -1517.699951           0.0             416.0   \n",
       "FOV_3     -1448.300049  -1166.699951           0.0             416.0   \n",
       "FOV_4     -1032.300049  -1166.699951           0.0             416.0   \n",
       "\n",
       "          len_y_micrometer  len_z_micrometer  x_micrometer_original  \\\n",
       "field_id                                                              \n",
       "FOV_1                351.0               1.0           -1448.300049   \n",
       "FOV_2                351.0               1.0           -1032.300049   \n",
       "FOV_3                351.0               1.0           -1448.300049   \n",
       "FOV_4                351.0               1.0           -1032.300049   \n",
       "\n",
       "          y_micrometer_original  \n",
       "field_id                         \n",
       "FOV_1              -1517.699951  \n",
       "FOV_2              -1517.699951  \n",
       "FOV_3              -1166.699951  \n",
       "FOV_4              -1166.699951  "
      ]
     },
     "execution_count": 7,
     "metadata": {},
     "output_type": "execute_result"
    }
   ],
   "source": [
    "# Look at the ROI table\n",
    "roi_an = ad.read_zarr(zarr_url / f'{well}/0/tables/{roi_table}')\n",
    "ro_df = roi_an.to_df()\n",
    "ro_df"
   ]
  },
  {
   "cell_type": "code",
   "execution_count": 4,
   "id": "83a88ed0-9400-4550-8e71-8caff424dd04",
   "metadata": {},
   "outputs": [],
   "source": [
    "label_roi, scale_label = load_label_roi(zarr_url, well, roi_index_of_interest, labels_name, level = 0)\n",
    "img_roi, scale_img = load_intensity_roi(zarr_url, well, roi_index_of_interest, channel_index, level = 0)"
   ]
  },
  {
   "cell_type": "code",
   "execution_count": 5,
   "id": "e5b72f22-86c7-4801-997c-487728f85c9f",
   "metadata": {},
   "outputs": [],
   "source": [
    "viewer = napari.Viewer()\n",
    "viewer.add_image(img_roi, scale=scale_img)\n",
    "label_layer = viewer.add_labels(label_roi, scale=scale_label)"
   ]
  },
  {
   "cell_type": "code",
   "execution_count": null,
   "id": "50436f4c-d039-4ae1-9405-02018c3d744b",
   "metadata": {},
   "outputs": [],
   "source": []
  },
  {
   "cell_type": "markdown",
   "id": "d951da9c-5bfb-48f0-9bb8-a5476155c9b0",
   "metadata": {},
   "source": [
    "# Feature visualization"
   ]
  },
  {
   "cell_type": "code",
   "execution_count": 48,
   "id": "b6a8391f-de20-4856-8244-47997a486391",
   "metadata": {},
   "outputs": [],
   "source": [
    "import pandas as pd\n",
    "import napari\n",
    "from pathlib import Path\n",
    "import matplotlib.pyplot as plt\n",
    "import numpy as np"
   ]
  },
  {
   "cell_type": "code",
   "execution_count": 49,
   "id": "1e6a6a3d-fef0-44d5-8fcf-ef9583f7cc00",
   "metadata": {},
   "outputs": [],
   "source": [
    "measurement_table = 'nuclei'\n",
    "nuclei_path = zarr_url / f'{well}/{image_index}/tables/{measurement_table}'\n",
    "nuclei_an = ad.read_zarr(nuclei_path)"
   ]
  },
  {
   "cell_type": "code",
   "execution_count": 50,
   "id": "7ccbe7ea-2996-42e2-90e8-80c343052ff1",
   "metadata": {},
   "outputs": [
    {
     "data": {
      "text/html": [
       "<div>\n",
       "<style scoped>\n",
       "    .dataframe tbody tr th:only-of-type {\n",
       "        vertical-align: middle;\n",
       "    }\n",
       "\n",
       "    .dataframe tbody tr th {\n",
       "        vertical-align: top;\n",
       "    }\n",
       "\n",
       "    .dataframe thead th {\n",
       "        text-align: right;\n",
       "    }\n",
       "</style>\n",
       "<table border=\"1\" class=\"dataframe\">\n",
       "  <thead>\n",
       "    <tr style=\"text-align: right;\">\n",
       "      <th></th>\n",
       "      <th>area</th>\n",
       "      <th>mean_intensity</th>\n",
       "      <th>standard_deviation_intensity</th>\n",
       "    </tr>\n",
       "    <tr>\n",
       "      <th>label</th>\n",
       "      <th></th>\n",
       "      <th></th>\n",
       "      <th></th>\n",
       "    </tr>\n",
       "  </thead>\n",
       "  <tbody>\n",
       "    <tr>\n",
       "      <th>1</th>\n",
       "      <td>2128.0</td>\n",
       "      <td>293.573792</td>\n",
       "      <td>53.578331</td>\n",
       "    </tr>\n",
       "    <tr>\n",
       "      <th>2</th>\n",
       "      <td>384.0</td>\n",
       "      <td>311.109375</td>\n",
       "      <td>106.931992</td>\n",
       "    </tr>\n",
       "    <tr>\n",
       "      <th>3</th>\n",
       "      <td>1312.0</td>\n",
       "      <td>231.229416</td>\n",
       "      <td>47.511070</td>\n",
       "    </tr>\n",
       "    <tr>\n",
       "      <th>4</th>\n",
       "      <td>2608.0</td>\n",
       "      <td>264.913727</td>\n",
       "      <td>57.151825</td>\n",
       "    </tr>\n",
       "    <tr>\n",
       "      <th>5</th>\n",
       "      <td>704.0</td>\n",
       "      <td>387.032684</td>\n",
       "      <td>176.512741</td>\n",
       "    </tr>\n",
       "    <tr>\n",
       "      <th>...</th>\n",
       "      <td>...</td>\n",
       "      <td>...</td>\n",
       "      <td>...</td>\n",
       "    </tr>\n",
       "    <tr>\n",
       "      <th>2962</th>\n",
       "      <td>1104.0</td>\n",
       "      <td>311.662140</td>\n",
       "      <td>75.626266</td>\n",
       "    </tr>\n",
       "    <tr>\n",
       "      <th>2963</th>\n",
       "      <td>1104.0</td>\n",
       "      <td>296.225555</td>\n",
       "      <td>73.479431</td>\n",
       "    </tr>\n",
       "    <tr>\n",
       "      <th>2964</th>\n",
       "      <td>736.0</td>\n",
       "      <td>280.744568</td>\n",
       "      <td>48.305725</td>\n",
       "    </tr>\n",
       "    <tr>\n",
       "      <th>2965</th>\n",
       "      <td>624.0</td>\n",
       "      <td>204.426285</td>\n",
       "      <td>44.935898</td>\n",
       "    </tr>\n",
       "    <tr>\n",
       "      <th>2966</th>\n",
       "      <td>304.0</td>\n",
       "      <td>247.736847</td>\n",
       "      <td>56.399334</td>\n",
       "    </tr>\n",
       "  </tbody>\n",
       "</table>\n",
       "<p>2966 rows × 3 columns</p>\n",
       "</div>"
      ],
      "text/plain": [
       "         area  mean_intensity  standard_deviation_intensity\n",
       "label                                                      \n",
       "1      2128.0      293.573792                     53.578331\n",
       "2       384.0      311.109375                    106.931992\n",
       "3      1312.0      231.229416                     47.511070\n",
       "4      2608.0      264.913727                     57.151825\n",
       "5       704.0      387.032684                    176.512741\n",
       "...       ...             ...                           ...\n",
       "2962   1104.0      311.662140                     75.626266\n",
       "2963   1104.0      296.225555                     73.479431\n",
       "2964    736.0      280.744568                     48.305725\n",
       "2965    624.0      204.426285                     44.935898\n",
       "2966    304.0      247.736847                     56.399334\n",
       "\n",
       "[2966 rows x 3 columns]"
      ]
     },
     "execution_count": 50,
     "metadata": {},
     "output_type": "execute_result"
    }
   ],
   "source": [
    "feature_df = nuclei_an.to_df()\n",
    "feature_df[['area', 'mean_intensity', 'standard_deviation_intensity']]"
   ]
  },
  {
   "cell_type": "code",
   "execution_count": 53,
   "id": "d72c35bd-6724-46e8-819d-1d7f3f6f525b",
   "metadata": {},
   "outputs": [
    {
     "data": {
      "text/plain": [
       "{'mean_intensity': array([  0.  , 293.57, 311.11, ..., 280.74, 204.43, 247.74])}"
      ]
     },
     "execution_count": 53,
     "metadata": {},
     "output_type": "execute_result"
    }
   ],
   "source": [
    "# Map the colors => using code from feature-viz plugin\n",
    "feature = 'area'\n",
    "feature = 'mean_intensity'\n",
    "quantiles=(0.1, 0.99)\n",
    "lower_contrast_limit = feature_df[feature].quantile(quantiles[0])\n",
    "upper_contrast_limit = feature_df[feature].quantile(quantiles[1])\n",
    "feature_df['feature_scaled'] = (\n",
    "    (feature_df[feature] - lower_contrast_limit) / (upper_contrast_limit - lower_contrast_limit)\n",
    ")\n",
    "feature_df.loc[feature_df['feature_scaled'] < 0, 'feature_scaled'] = 0\n",
    "feature_df.loc[feature_df['feature_scaled'] > 1, 'feature_scaled'] = 1\n",
    "colors = plt.cm.get_cmap('viridis')(feature_df['feature_scaled'])\n",
    "\n",
    "#colors = plt.cm.get_cmap('viridis')(feature_df[feature])\n",
    "\n",
    "# create color dictionary\n",
    "colors_simple = dict(zip(feature_df.index.astype(int), colors))\n",
    "\n",
    "properties_array = np.zeros(feature_df.index.astype(int).max() + 1)\n",
    "properties_array[feature_df.index.astype(int)] = feature_df[feature]\n",
    "label_properties = {feature: np.round(properties_array, decimals=2)}\n",
    "label_properties"
   ]
  },
  {
   "cell_type": "code",
   "execution_count": 54,
   "id": "2033b328-8f67-4479-b9c9-addf15eaff90",
   "metadata": {},
   "outputs": [],
   "source": [
    "label_layer.properties = label_properties\n",
    "label_layer.color = colors_simple"
   ]
  },
  {
   "cell_type": "code",
   "execution_count": null,
   "id": "3d843d31-3f25-4553-b8b2-a447bc95e88e",
   "metadata": {},
   "outputs": [],
   "source": []
  },
  {
   "cell_type": "code",
   "execution_count": null,
   "id": "3e3a10ff-99d4-4d58-87dc-aae2f0eda741",
   "metadata": {},
   "outputs": [],
   "source": []
  },
  {
   "cell_type": "code",
   "execution_count": null,
   "id": "1f687a05-9e1c-42cf-8ccf-be18c9338c5c",
   "metadata": {},
   "outputs": [],
   "source": []
  },
  {
   "cell_type": "code",
   "execution_count": null,
   "id": "89c74e46-d3be-47e3-8bcd-3455f85ef52d",
   "metadata": {},
   "outputs": [],
   "source": []
  },
  {
   "cell_type": "code",
   "execution_count": null,
   "id": "28a13a6c-c4de-4247-b661-ffbe58b048bc",
   "metadata": {},
   "outputs": [],
   "source": []
  },
  {
   "cell_type": "code",
   "execution_count": null,
   "id": "1174232e-4b05-4f33-908e-2f14afb33aa9",
   "metadata": {},
   "outputs": [],
   "source": []
  },
  {
   "cell_type": "code",
   "execution_count": null,
   "id": "b9155856-b0aa-49f4-912e-c755933ab80a",
   "metadata": {},
   "outputs": [],
   "source": []
  },
  {
   "cell_type": "code",
   "execution_count": null,
   "id": "2a57ae01-e39b-45d7-a90c-0b32e09eb068",
   "metadata": {},
   "outputs": [],
   "source": []
  },
  {
   "cell_type": "code",
   "execution_count": null,
   "id": "ef0d8012-57ef-4a9a-bd1c-e927d430cc30",
   "metadata": {},
   "outputs": [],
   "source": []
  },
  {
   "cell_type": "code",
   "execution_count": null,
   "id": "3bbad346-0805-4ade-8f14-df5ef26dd03e",
   "metadata": {},
   "outputs": [],
   "source": []
  },
  {
   "cell_type": "code",
   "execution_count": null,
   "id": "bca8fe83-af12-406a-bfbf-d0e13f63ad59",
   "metadata": {},
   "outputs": [],
   "source": []
  },
  {
   "cell_type": "code",
   "execution_count": null,
   "id": "cd1eb0ea-e46e-4df8-9fdb-7c03da31ad40",
   "metadata": {},
   "outputs": [],
   "source": []
  },
  {
   "cell_type": "code",
   "execution_count": null,
   "id": "cced400c-9b1d-4f42-83b4-652827637c5d",
   "metadata": {},
   "outputs": [],
   "source": []
  },
  {
   "cell_type": "code",
   "execution_count": null,
   "id": "d9bb7228-1dd2-4e03-93fe-cfb503a141b1",
   "metadata": {},
   "outputs": [],
   "source": []
  },
  {
   "cell_type": "code",
   "execution_count": null,
   "id": "bcee8885-ba49-4689-bb46-fb32ca22309e",
   "metadata": {},
   "outputs": [],
   "source": []
  },
  {
   "cell_type": "code",
   "execution_count": null,
   "id": "8e81d22b-9d90-4afa-a9d1-552333d1aafb",
   "metadata": {},
   "outputs": [],
   "source": []
  },
  {
   "cell_type": "code",
   "execution_count": null,
   "id": "8c0173cb-8950-4ebc-b75d-2bbf7379be28",
   "metadata": {},
   "outputs": [],
   "source": []
  },
  {
   "cell_type": "code",
   "execution_count": 49,
   "id": "e3f4e408-6d72-4d2c-aba6-36610a083691",
   "metadata": {},
   "outputs": [
    {
     "data": {
      "text/plain": [
       "[1.0, 0.65, 0.65]"
      ]
     },
     "execution_count": 49,
     "metadata": {},
     "output_type": "execute_result"
    }
   ],
   "source": [
    "scale_labels"
   ]
  },
  {
   "cell_type": "code",
   "execution_count": 57,
   "id": "d7c25bd3-6ffc-4bdf-a028-b880cfdaa199",
   "metadata": {},
   "outputs": [
    {
     "data": {
      "text/plain": [
       "(10, 1080, 1280)"
      ]
     },
     "execution_count": 57,
     "metadata": {},
     "output_type": "execute_result"
    }
   ],
   "source": [
    "label_roi_np.shape"
   ]
  },
  {
   "cell_type": "code",
   "execution_count": 54,
   "id": "6078443c-0005-470b-a4c5-1187aea91e80",
   "metadata": {},
   "outputs": [
    {
     "data": {
      "text/plain": [
       "(10, 2160, 2560)"
      ]
     },
     "execution_count": 54,
     "metadata": {},
     "output_type": "execute_result"
    }
   ],
   "source": [
    "dapi_roi_np.shape"
   ]
  },
  {
   "cell_type": "code",
   "execution_count": 62,
   "id": "eb58c492-19ef-4296-aa11-ce0b7ccdc233",
   "metadata": {},
   "outputs": [],
   "source": [
    "viewer.camera.angles = (130.67298740487422, -52.141052759501626, -130.7850853480948)\n",
    "viewer.camera.zoom = 4.602908851234012\n",
    "viewer.camera.center = (4.1393577048941435, 175.59930753221713, 204.92807327371398)"
   ]
  },
  {
   "cell_type": "code",
   "execution_count": 63,
   "id": "f26d0ea4-196d-4d3c-b742-85a5ddf841d8",
   "metadata": {},
   "outputs": [],
   "source": [
    "img_sc = viewer.screenshot('napari_screenshot_3D_segmentation.png')"
   ]
  },
  {
   "cell_type": "code",
   "execution_count": 14,
   "id": "d7e001e8-f86f-48d7-9977-19378577292b",
   "metadata": {},
   "outputs": [],
   "source": [
    "z_pos = 0\n",
    "viewer.dims.set_point(0, z_pos)"
   ]
  },
  {
   "cell_type": "code",
   "execution_count": null,
   "id": "33d283df-3bb6-408c-8f2f-aab11d5a1a6f",
   "metadata": {},
   "outputs": [],
   "source": []
  },
  {
   "cell_type": "code",
   "execution_count": null,
   "id": "7fc73702-ee54-4fad-bc32-6daef9878ffc",
   "metadata": {},
   "outputs": [],
   "source": []
  },
  {
   "cell_type": "code",
   "execution_count": null,
   "id": "472bc57a-5821-4e9c-a3aa-b3cf6b625ca2",
   "metadata": {},
   "outputs": [],
   "source": []
  },
  {
   "cell_type": "markdown",
   "id": "0e4b4d78-9ad5-4931-adce-64b496631bb4",
   "metadata": {},
   "source": [
    "# Make single plane images"
   ]
  },
  {
   "cell_type": "code",
   "execution_count": 8,
   "id": "7e5a80f3-a2ed-4b9c-9b2f-235e83a351df",
   "metadata": {},
   "outputs": [
    {
     "name": "stdout",
     "output_type": "stream",
     "text": [
      "Assistant skips harvesting pyclesperanto as it's not installed.\n"
     ]
    },
    {
     "name": "stderr",
     "output_type": "stream",
     "text": [
      "/Users/joel/opt/miniconda3/envs/napari-assistant/lib/python3.9/site-packages/napari_tools_menu/__init__.py:179: FutureWarning: Public access to Window.qt_viewer is deprecated and will be removed in\n",
      "v0.5.0. It is considered an \"implementation detail\" of the napari\n",
      "application, not part of the napari viewer model. If your use case\n",
      "requires access to qt_viewer, please open an issue to discuss.\n",
      "  self.tools_menu = ToolsMenu(self, self.qt_viewer.viewer)\n"
     ]
    },
    {
     "data": {
      "text/plain": [
       "<Image layer 'dapi_roi_np' at 0x1278d3340>"
      ]
     },
     "execution_count": 8,
     "metadata": {},
     "output_type": "execute_result"
    }
   ],
   "source": [
    "viewer = napari.Viewer()\n",
    "viewer.add_image(dapi_roi_np, scale=scale_img)"
   ]
  },
  {
   "cell_type": "code",
   "execution_count": 22,
   "id": "d21a7ef8-21ba-412e-bd37-8505f0e4dad5",
   "metadata": {},
   "outputs": [
    {
     "data": {
      "text/plain": [
       "<Image layer 'dapi_roi_np [2]' at 0x2d2f6a190>"
      ]
     },
     "execution_count": 22,
     "metadata": {},
     "output_type": "execute_result"
    }
   ],
   "source": [
    "viewer.add_image(dapi_roi_np, scale=scale_img)"
   ]
  },
  {
   "cell_type": "code",
   "execution_count": 23,
   "id": "17446248-73a0-4b9b-bcf7-9e0a580385fd",
   "metadata": {},
   "outputs": [],
   "source": [
    "for z_pos in range(10):\n",
    "    viewer.dims.set_point(0, z_pos)\n",
    "    img_sc = viewer.screenshot(f'singlePlanes_ROI{roi_index_of_interest}_z{z_pos}_c{ind_channel}.png')"
   ]
  },
  {
   "cell_type": "code",
   "execution_count": null,
   "id": "cddbc10a-a9ce-491f-b7f7-77356a1fba4b",
   "metadata": {},
   "outputs": [],
   "source": []
  }
 ],
 "metadata": {
  "kernelspec": {
   "display_name": "Python 3 (ipykernel)",
   "language": "python",
   "name": "python3"
  },
  "language_info": {
   "codemirror_mode": {
    "name": "ipython",
    "version": 3
   },
   "file_extension": ".py",
   "mimetype": "text/x-python",
   "name": "python",
   "nbconvert_exporter": "python",
   "pygments_lexer": "ipython3",
   "version": "3.9.12"
  }
 },
 "nbformat": 4,
 "nbformat_minor": 5
}
